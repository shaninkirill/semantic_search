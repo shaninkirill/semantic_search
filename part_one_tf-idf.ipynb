{
 "cells": [
  {
   "cell_type": "markdown",
   "metadata": {},
   "source": [
    "## Импортируем необходимые библиотеки"
   ]
  },
  {
   "cell_type": "code",
   "execution_count": 15,
   "metadata": {},
   "outputs": [],
   "source": [
    "import pandas as pd\n",
    "import pymorphy3\n",
    "import nltk\n",
    "from nltk.tokenize import word_tokenize\n",
    "from nltk.tokenize import sent_tokenize\n",
    "from spacy.lang.ru.stop_words import STOP_WORDS\n",
    "import string"
   ]
  },
  {
   "cell_type": "code",
   "execution_count": 2,
   "metadata": {},
   "outputs": [],
   "source": [
    "df = pd.read_csv('banks.csv', sep='\\t')"
   ]
  },
  {
   "cell_type": "code",
   "execution_count": 27,
   "metadata": {},
   "outputs": [
    {
     "data": {
      "text/html": [
       "<div>\n",
       "<style scoped>\n",
       "    .dataframe tbody tr th:only-of-type {\n",
       "        vertical-align: middle;\n",
       "    }\n",
       "\n",
       "    .dataframe tbody tr th {\n",
       "        vertical-align: top;\n",
       "    }\n",
       "\n",
       "    .dataframe thead th {\n",
       "        text-align: right;\n",
       "    }\n",
       "</style>\n",
       "<table border=\"1\" class=\"dataframe\">\n",
       "  <thead>\n",
       "    <tr style=\"text-align: right;\">\n",
       "      <th></th>\n",
       "      <th>idx</th>\n",
       "      <th>Score</th>\n",
       "      <th>Text</th>\n",
       "    </tr>\n",
       "  </thead>\n",
       "  <tbody>\n",
       "    <tr>\n",
       "      <th>0</th>\n",
       "      <td>0</td>\n",
       "      <td>Positive</td>\n",
       "      <td>В Альфа-Банке работает замечательная девушка -...</td>\n",
       "    </tr>\n",
       "    <tr>\n",
       "      <th>1</th>\n",
       "      <td>1</td>\n",
       "      <td>Negative</td>\n",
       "      <td>Оформляя рассрочку в м. Видео в меге тёплый ст...</td>\n",
       "    </tr>\n",
       "    <tr>\n",
       "      <th>2</th>\n",
       "      <td>2</td>\n",
       "      <td>Positive</td>\n",
       "      <td>Очень порадовала оперативность работы в банке....</td>\n",
       "    </tr>\n",
       "    <tr>\n",
       "      <th>3</th>\n",
       "      <td>3</td>\n",
       "      <td>Negative</td>\n",
       "      <td>Имела неосторожность оформить потреб. кредит в...</td>\n",
       "    </tr>\n",
       "    <tr>\n",
       "      <th>4</th>\n",
       "      <td>4</td>\n",
       "      <td>Negative</td>\n",
       "      <td>Небольшая предыстория: Нашел на сайте MDM банк...</td>\n",
       "    </tr>\n",
       "  </tbody>\n",
       "</table>\n",
       "</div>"
      ],
      "text/plain": [
       "   idx     Score                                               Text\n",
       "0    0  Positive  В Альфа-Банке работает замечательная девушка -...\n",
       "1    1  Negative  Оформляя рассрочку в м. Видео в меге тёплый ст...\n",
       "2    2  Positive  Очень порадовала оперативность работы в банке....\n",
       "3    3  Negative  Имела неосторожность оформить потреб. кредит в...\n",
       "4    4  Negative  Небольшая предыстория: Нашел на сайте MDM банк..."
      ]
     },
     "execution_count": 27,
     "metadata": {},
     "output_type": "execute_result"
    }
   ],
   "source": [
    "df.head()"
   ]
  },
  {
   "cell_type": "code",
   "execution_count": 4,
   "metadata": {},
   "outputs": [
    {
     "data": {
      "text/plain": [
       "'!\"#$%&\\'()*+,-./:;<=>?@[\\\\]^_`{|}~[]—«»'"
      ]
     },
     "execution_count": 4,
     "metadata": {},
     "output_type": "execute_result"
    }
   ],
   "source": [
    "punctuation_marks = string.punctuation\n",
    "\n",
    "punctuation_marks += '[]—«»'\n",
    "punctuation_marks"
   ]
  },
  {
   "cell_type": "code",
   "execution_count": 30,
   "metadata": {},
   "outputs": [],
   "source": [
    "morph = pymorphy3.MorphAnalyzer()\n",
    "\n",
    "def preprocess(text):\n",
    "    tokens = word_tokenize(text.lower()) # Делим текст на токены (слова)\n",
    "    preprocessed_text = []\n",
    "    for token in tokens:\n",
    "        if token not in punctuation_marks: # Проверка является ли токен пунктуационным знаком\n",
    "            lemma = morph.parse(token)[0].normal_form # Приводим в начальную форму (лемматизируем)\n",
    "            if lemma not in STOP_WORDS: # Проверка являвется ли токен стоп-словом\n",
    "                preprocessed_text.append(lemma)\n",
    "    \n",
    "    return preprocessed_text"
   ]
  },
  {
   "cell_type": "code",
   "execution_count": 31,
   "metadata": {},
   "outputs": [
    {
     "name": "stdout",
     "output_type": "stream",
     "text": [
      "CPU times: total: 9min 21s\n",
      "Wall time: 9min 24s\n"
     ]
    }
   ],
   "source": [
    "%time df['Preprocessed_texts'] = df.apply(lambda row: preprocess(row['Text']), axis=1)"
   ]
  },
  {
   "cell_type": "code",
   "execution_count": 32,
   "metadata": {},
   "outputs": [
    {
     "data": {
      "text/html": [
       "<div>\n",
       "<style scoped>\n",
       "    .dataframe tbody tr th:only-of-type {\n",
       "        vertical-align: middle;\n",
       "    }\n",
       "\n",
       "    .dataframe tbody tr th {\n",
       "        vertical-align: top;\n",
       "    }\n",
       "\n",
       "    .dataframe thead th {\n",
       "        text-align: right;\n",
       "    }\n",
       "</style>\n",
       "<table border=\"1\" class=\"dataframe\">\n",
       "  <thead>\n",
       "    <tr style=\"text-align: right;\">\n",
       "      <th></th>\n",
       "      <th>idx</th>\n",
       "      <th>Score</th>\n",
       "      <th>Text</th>\n",
       "      <th>Preprocessed_texts</th>\n",
       "    </tr>\n",
       "  </thead>\n",
       "  <tbody>\n",
       "    <tr>\n",
       "      <th>0</th>\n",
       "      <td>0</td>\n",
       "      <td>Positive</td>\n",
       "      <td>В Альфа-Банке работает замечательная девушка -...</td>\n",
       "      <td>[альфа-банк, работать, замечательный, девушка,...</td>\n",
       "    </tr>\n",
       "    <tr>\n",
       "      <th>1</th>\n",
       "      <td>1</td>\n",
       "      <td>Negative</td>\n",
       "      <td>Оформляя рассрочку в м. Видео в меге тёплый ст...</td>\n",
       "      <td>[оформлять, рассрочка, м., видео, мег, тёплый,...</td>\n",
       "    </tr>\n",
       "    <tr>\n",
       "      <th>2</th>\n",
       "      <td>2</td>\n",
       "      <td>Positive</td>\n",
       "      <td>Очень порадовала оперативность работы в банке....</td>\n",
       "      <td>[порадовать, оперативность, работа, банк, зака...</td>\n",
       "    </tr>\n",
       "    <tr>\n",
       "      <th>3</th>\n",
       "      <td>3</td>\n",
       "      <td>Negative</td>\n",
       "      <td>Имела неосторожность оформить потреб. кредит в...</td>\n",
       "      <td>[неосторожность, оформить, потреба, кредит, ал...</td>\n",
       "    </tr>\n",
       "    <tr>\n",
       "      <th>4</th>\n",
       "      <td>4</td>\n",
       "      <td>Negative</td>\n",
       "      <td>Небольшая предыстория: Нашел на сайте MDM банк...</td>\n",
       "      <td>[небольшой, предыстория, найти, сайт, mdm, бан...</td>\n",
       "    </tr>\n",
       "    <tr>\n",
       "      <th>...</th>\n",
       "      <td>...</td>\n",
       "      <td>...</td>\n",
       "      <td>...</td>\n",
       "      <td>...</td>\n",
       "    </tr>\n",
       "    <tr>\n",
       "      <th>13994</th>\n",
       "      <td>13994</td>\n",
       "      <td>Positive</td>\n",
       "      <td>О высокой надёжности МКБ, порядочности и добро...</td>\n",
       "      <td>[высокий, надёжность, мкб, порядочность, добро...</td>\n",
       "    </tr>\n",
       "    <tr>\n",
       "      <th>13995</th>\n",
       "      <td>13995</td>\n",
       "      <td>Positive</td>\n",
       "      <td>Обслуживаюсь в офисе на Чернореченской 42а, ка...</td>\n",
       "      <td>[обслуживаться, офис, чернореченский, 42а, физ...</td>\n",
       "    </tr>\n",
       "    <tr>\n",
       "      <th>13996</th>\n",
       "      <td>13996</td>\n",
       "      <td>Positive</td>\n",
       "      <td>Попала сегодня в очень неприятную ситуацию. Ре...</td>\n",
       "      <td>[попасть, сегодня, неприятный, ситуация, решит...</td>\n",
       "    </tr>\n",
       "    <tr>\n",
       "      <th>13997</th>\n",
       "      <td>13997</td>\n",
       "      <td>Positive</td>\n",
       "      <td>Добрый день! Давно являюсь клиентом банка Русс...</td>\n",
       "      <td>[добрый, день, являться, клиент, банк, русский...</td>\n",
       "    </tr>\n",
       "    <tr>\n",
       "      <th>13998</th>\n",
       "      <td>13998</td>\n",
       "      <td>Negative</td>\n",
       "      <td>Сначала было все банально. Взял в кредит mp3 п...</td>\n",
       "      <td>[банально, взять, кредит, mp3, плеер, 6, мес, ...</td>\n",
       "    </tr>\n",
       "  </tbody>\n",
       "</table>\n",
       "<p>13999 rows × 4 columns</p>\n",
       "</div>"
      ],
      "text/plain": [
       "         idx     Score                                               Text  \\\n",
       "0          0  Positive  В Альфа-Банке работает замечательная девушка -...   \n",
       "1          1  Negative  Оформляя рассрочку в м. Видео в меге тёплый ст...   \n",
       "2          2  Positive  Очень порадовала оперативность работы в банке....   \n",
       "3          3  Negative  Имела неосторожность оформить потреб. кредит в...   \n",
       "4          4  Negative  Небольшая предыстория: Нашел на сайте MDM банк...   \n",
       "...      ...       ...                                                ...   \n",
       "13994  13994  Positive  О высокой надёжности МКБ, порядочности и добро...   \n",
       "13995  13995  Positive  Обслуживаюсь в офисе на Чернореченской 42а, ка...   \n",
       "13996  13996  Positive  Попала сегодня в очень неприятную ситуацию. Ре...   \n",
       "13997  13997  Positive  Добрый день! Давно являюсь клиентом банка Русс...   \n",
       "13998  13998  Negative  Сначала было все банально. Взял в кредит mp3 п...   \n",
       "\n",
       "                                      Preprocessed_texts  \n",
       "0      [альфа-банк, работать, замечательный, девушка,...  \n",
       "1      [оформлять, рассрочка, м., видео, мег, тёплый,...  \n",
       "2      [порадовать, оперативность, работа, банк, зака...  \n",
       "3      [неосторожность, оформить, потреба, кредит, ал...  \n",
       "4      [небольшой, предыстория, найти, сайт, mdm, бан...  \n",
       "...                                                  ...  \n",
       "13994  [высокий, надёжность, мкб, порядочность, добро...  \n",
       "13995  [обслуживаться, офис, чернореченский, 42а, физ...  \n",
       "13996  [попасть, сегодня, неприятный, ситуация, решит...  \n",
       "13997  [добрый, день, являться, клиент, банк, русский...  \n",
       "13998  [банально, взять, кредит, mp3, плеер, 6, мес, ...  \n",
       "\n",
       "[13999 rows x 4 columns]"
      ]
     },
     "execution_count": 32,
     "metadata": {},
     "output_type": "execute_result"
    }
   ],
   "source": [
    "df"
   ]
  },
  {
   "cell_type": "code",
   "execution_count": null,
   "metadata": {},
   "outputs": [],
   "source": []
  }
 ],
 "metadata": {
  "kernelspec": {
   "display_name": "Python 3",
   "language": "python",
   "name": "python3"
  },
  "language_info": {
   "codemirror_mode": {
    "name": "ipython",
    "version": 3
   },
   "file_extension": ".py",
   "mimetype": "text/x-python",
   "name": "python",
   "nbconvert_exporter": "python",
   "pygments_lexer": "ipython3",
   "version": "3.10.4"
  }
 },
 "nbformat": 4,
 "nbformat_minor": 2
}
